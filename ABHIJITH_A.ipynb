{
  "nbformat": 4,
  "nbformat_minor": 0,
  "metadata": {
    "colab": {
      "name": "ABHIJITH_A.ipynb",
      "provenance": []
    },
    "kernelspec": {
      "name": "python3",
      "display_name": "Python 3"
    }
  },
  "cells": [
    {
      "cell_type": "markdown",
      "metadata": {
        "id": "ijeLlPkb8SSP"
      },
      "source": [
        "library imported\r\n"
      ]
    },
    {
      "cell_type": "code",
      "metadata": {
        "id": "bSOO2sTXshD4"
      },
      "source": [
        "import pandas as pa\r\n",
        "import numpy as np"
      ],
      "execution_count": 56,
      "outputs": []
    },
    {
      "cell_type": "markdown",
      "metadata": {
        "id": "9SRystgC8QOZ"
      },
      "source": [
        "fetching the iris dataset"
      ]
    },
    {
      "cell_type": "code",
      "metadata": {
        "id": "WstSdLbfthKi"
      },
      "source": [
        "from sklearn.datasets import load_iris\r\n",
        "iris_dataset = load_iris()"
      ],
      "execution_count": 57,
      "outputs": []
    },
    {
      "cell_type": "markdown",
      "metadata": {
        "id": "Wlzu3KkuO2kh"
      },
      "source": [
        "just look what all data does data set is provided with and how they are arranged"
      ]
    },
    {
      "cell_type": "code",
      "metadata": {
        "colab": {
          "base_uri": "https://localhost:8080/"
        },
        "id": "t1ChmLxYvpHZ",
        "outputId": "c3727b59-fb06-4278-9042-2adc996e4a85"
      },
      "source": [
        "print(\"iris_data set keys:\\n{}\".format(iris_dataset.keys()))"
      ],
      "execution_count": 58,
      "outputs": [
        {
          "output_type": "stream",
          "text": [
            "iris_data set keys:\n",
            "dict_keys(['data', 'target', 'target_names', 'DESCR', 'feature_names', 'filename'])\n"
          ],
          "name": "stdout"
        }
      ]
    },
    {
      "cell_type": "markdown",
      "metadata": {
        "id": "PFlxVo9WPeyv"
      },
      "source": [
        "lets look the 'DESCR' structure of the iris dataset "
      ]
    },
    {
      "cell_type": "code",
      "metadata": {
        "colab": {
          "base_uri": "https://localhost:8080/"
        },
        "id": "Yc1ZtN2qwK2Y",
        "outputId": "4dc4deb1-4118-4124-e201-238137c774da"
      },
      "source": [
        "\r\n",
        "print(iris_dataset['DESCR'][:500]+\"\\n..............................\")"
      ],
      "execution_count": 59,
      "outputs": [
        {
          "output_type": "stream",
          "text": [
            ".. _iris_dataset:\n",
            "\n",
            "Iris plants dataset\n",
            "--------------------\n",
            "\n",
            "**Data Set Characteristics:**\n",
            "\n",
            "    :Number of Instances: 150 (50 in each of three classes)\n",
            "    :Number of Attributes: 4 numeric, predictive attributes and the class\n",
            "    :Attribute Information:\n",
            "        - sepal length in cm\n",
            "        - sepal width in cm\n",
            "        - petal length in cm\n",
            "        - petal width in cm\n",
            "        - class:\n",
            "                - Iris-Setosa\n",
            "                - Iris-Versicolour\n",
            "                - Iris-Virginica\n",
            "                \n",
            "\n",
            "..............................\n"
          ],
          "name": "stdout"
        }
      ]
    },
    {
      "cell_type": "markdown",
      "metadata": {
        "id": "jgBjHzmXQB9t"
      },
      "source": [
        "look what are in target_names"
      ]
    },
    {
      "cell_type": "code",
      "metadata": {
        "colab": {
          "base_uri": "https://localhost:8080/"
        },
        "id": "6rUFThgaxphe",
        "outputId": "cee4aaf3-8ba1-4bf0-89f5-26e939f4b639"
      },
      "source": [
        "print('target_names : {}'.format(iris_dataset['target_names']))"
      ],
      "execution_count": 60,
      "outputs": [
        {
          "output_type": "stream",
          "text": [
            "target_names : ['setosa' 'versicolor' 'virginica']\n"
          ],
          "name": "stdout"
        }
      ]
    },
    {
      "cell_type": "markdown",
      "metadata": {
        "id": "xh-P1jMwT3Xm"
      },
      "source": [
        "lets look what feature_names holds"
      ]
    },
    {
      "cell_type": "code",
      "metadata": {
        "colab": {
          "base_uri": "https://localhost:8080/"
        },
        "id": "WHQdjuhcyMe4",
        "outputId": "e2ac5c7d-1b1e-4e51-e2cb-b43c473ac686"
      },
      "source": [
        "print('Featers_name: {}'.format(iris_dataset['feature_names']))"
      ],
      "execution_count": 61,
      "outputs": [
        {
          "output_type": "stream",
          "text": [
            "Featers_name: ['sepal length (cm)', 'sepal width (cm)', 'petal length (cm)', 'petal width (cm)']\n"
          ],
          "name": "stdout"
        }
      ]
    },
    {
      "cell_type": "markdown",
      "metadata": {
        "id": "l7l8FxHWTtb6"
      },
      "source": [
        "lets look what target holds"
      ]
    },
    {
      "cell_type": "code",
      "metadata": {
        "colab": {
          "base_uri": "https://localhost:8080/"
        },
        "id": "huABSeEg3CkV",
        "outputId": "9207d976-8dd2-41da-a0f1-21f1230e6023"
      },
      "source": [
        "print('Target:\\n{}'. format(iris_dataset['target']))"
      ],
      "execution_count": 62,
      "outputs": [
        {
          "output_type": "stream",
          "text": [
            "Target:\n",
            "[0 0 0 0 0 0 0 0 0 0 0 0 0 0 0 0 0 0 0 0 0 0 0 0 0 0 0 0 0 0 0 0 0 0 0 0 0\n",
            " 0 0 0 0 0 0 0 0 0 0 0 0 0 1 1 1 1 1 1 1 1 1 1 1 1 1 1 1 1 1 1 1 1 1 1 1 1\n",
            " 1 1 1 1 1 1 1 1 1 1 1 1 1 1 1 1 1 1 1 1 1 1 1 1 1 1 2 2 2 2 2 2 2 2 2 2 2\n",
            " 2 2 2 2 2 2 2 2 2 2 2 2 2 2 2 2 2 2 2 2 2 2 2 2 2 2 2 2 2 2 2 2 2 2 2 2 2\n",
            " 2 2]\n"
          ],
          "name": "stdout"
        }
      ]
    },
    {
      "cell_type": "markdown",
      "metadata": {
        "id": "IxtA6xxk396x"
      },
      "source": [
        "0-SETOSA,1-VERSICOLOR,2-VIRGINICA"
      ]
    },
    {
      "cell_type": "markdown",
      "metadata": {
        "id": "xE8K_ruaTpfd"
      },
      "source": [
        "lets look what first five data looks like"
      ]
    },
    {
      "cell_type": "code",
      "metadata": {
        "colab": {
          "base_uri": "https://localhost:8080/"
        },
        "id": "u4NX6T_80DX0",
        "outputId": "8a4d8633-a2b1-4d01-92d3-47e6f87f3637"
      },
      "source": [
        "print('first five rows of data:\\n {}'.format(iris_dataset['data'][:5]))"
      ],
      "execution_count": 63,
      "outputs": [
        {
          "output_type": "stream",
          "text": [
            "first five rows of data:\n",
            " [[5.1 3.5 1.4 0.2]\n",
            " [4.9 3.  1.4 0.2]\n",
            " [4.7 3.2 1.3 0.2]\n",
            " [4.6 3.1 1.5 0.2]\n",
            " [5.  3.6 1.4 0.2]]\n"
          ],
          "name": "stdout"
        }
      ]
    },
    {
      "cell_type": "markdown",
      "metadata": {
        "id": "T4LuBq8eUc2h"
      },
      "source": [
        "'sepal length (cm)', 'sepal width (cm)', 'petal length (cm)', 'petal width (cm)'"
      ]
    },
    {
      "cell_type": "markdown",
      "metadata": {
        "id": "Wjq1WHACUhpo"
      },
      "source": [
        "lets look the types"
      ]
    },
    {
      "cell_type": "code",
      "metadata": {
        "colab": {
          "base_uri": "https://localhost:8080/"
        },
        "id": "-sfdxbojynKU",
        "outputId": "ab85ce30-f2bf-4b87-e0b3-d42d420a8de3"
      },
      "source": [
        "print('Type of the data: {}'.format(type(iris_dataset['data'])))"
      ],
      "execution_count": 64,
      "outputs": [
        {
          "output_type": "stream",
          "text": [
            "Type of the data: <class 'numpy.ndarray'>\n"
          ],
          "name": "stdout"
        }
      ]
    },
    {
      "cell_type": "code",
      "metadata": {
        "colab": {
          "base_uri": "https://localhost:8080/"
        },
        "id": "fG0BR9_y0vbU",
        "outputId": "13007cc7-6507-4721-e62b-3ed76492300e"
      },
      "source": [
        "print('type of target :{}'. format(type(iris_dataset['target'])))"
      ],
      "execution_count": 65,
      "outputs": [
        {
          "output_type": "stream",
          "text": [
            "type of target :<class 'numpy.ndarray'>\n"
          ],
          "name": "stdout"
        }
      ]
    },
    {
      "cell_type": "markdown",
      "metadata": {
        "id": "5y9cuN73UteO"
      },
      "source": [
        "just verify the shape"
      ]
    },
    {
      "cell_type": "code",
      "metadata": {
        "colab": {
          "base_uri": "https://localhost:8080/"
        },
        "id": "c7Vpay7GzWQO",
        "outputId": "921a4a5b-a397-4c61-f081-e2232d44b578"
      },
      "source": [
        "print(\"shape of the data: {}\".format(iris_dataset['data'].shape))"
      ],
      "execution_count": 66,
      "outputs": [
        {
          "output_type": "stream",
          "text": [
            "shape of the data: (150, 4)\n"
          ],
          "name": "stdout"
        }
      ]
    },
    {
      "cell_type": "code",
      "metadata": {
        "colab": {
          "base_uri": "https://localhost:8080/"
        },
        "id": "YJ0An61j2kiF",
        "outputId": "b92fc8ff-efec-47af-821a-cf52dfce7026"
      },
      "source": [
        "print(\"shape of target : {}\".format(iris_dataset['target'].shape))"
      ],
      "execution_count": 67,
      "outputs": [
        {
          "output_type": "stream",
          "text": [
            "shape of target : (150,)\n"
          ],
          "name": "stdout"
        }
      ]
    },
    {
      "cell_type": "markdown",
      "metadata": {
        "id": "FMOZOq3w_cEr"
      },
      "source": [
        "teting the datasets"
      ]
    },
    {
      "cell_type": "code",
      "metadata": {
        "id": "SYWBOFMC8-Iy"
      },
      "source": [
        "\r\n",
        "from sklearn.model_selection import train_test_split\r\n",
        "X_train, X_test, y_train, y_test = train_test_split(\r\n",
        "    iris_dataset['data'],iris_dataset['target'], random_state=0)"
      ],
      "execution_count": 70,
      "outputs": []
    },
    {
      "cell_type": "markdown",
      "metadata": {
        "id": "aCtXu4_o_ai4"
      },
      "source": [
        "to just check the train and test data positions"
      ]
    },
    {
      "cell_type": "code",
      "metadata": {
        "id": "cnlfhWHO-fSY",
        "colab": {
          "base_uri": "https://localhost:8080/"
        },
        "outputId": "885348de-a449-4daf-d846-378e7985707a"
      },
      "source": [
        "print(\"X_train shape:{}\".format(X_train.shape))\r\n",
        "print(\"y_train shape:{}\".format(y_train.shape))\r\n",
        "print(\"X_test shape:{}\".format(X_test.shape))\r\n",
        "print(\"y_test shape:{}\".format(y_test.shape))"
      ],
      "execution_count": 71,
      "outputs": [
        {
          "output_type": "stream",
          "text": [
            "X_train shape:(112, 4)\n",
            "y_train shape:(112,)\n",
            "X_test shape:(38, 4)\n",
            "y_test shape:(38,)\n"
          ],
          "name": "stdout"
        }
      ]
    },
    {
      "cell_type": "markdown",
      "metadata": {
        "id": "qGw-isAFDj3m"
      },
      "source": [
        "just to make the model to make a kneighbour clasifier..."
      ]
    },
    {
      "cell_type": "code",
      "metadata": {
        "id": "sxSW9GxaDkXF"
      },
      "source": [
        "from sklearn.neighbors import KNeighborsClassifier\r\n",
        "knn = KNeighborsClassifier(n_neighbors=1)"
      ],
      "execution_count": 72,
      "outputs": []
    },
    {
      "cell_type": "markdown",
      "metadata": {
        "id": "8JGr3MUvKbAo"
      },
      "source": [
        ""
      ]
    },
    {
      "cell_type": "code",
      "metadata": {
        "colab": {
          "base_uri": "https://localhost:8080/"
        },
        "id": "oos3BhczKaWH",
        "outputId": "0fbb3a32-44ee-4739-a4cc-f7a3181e0aa1"
      },
      "source": [
        "knn.fit(X_train, y_train)\r\n"
      ],
      "execution_count": 73,
      "outputs": [
        {
          "output_type": "execute_result",
          "data": {
            "text/plain": [
              "KNeighborsClassifier(algorithm='auto', leaf_size=30, metric='minkowski',\n",
              "                     metric_params=None, n_jobs=None, n_neighbors=1, p=2,\n",
              "                     weights='uniform')"
            ]
          },
          "metadata": {
            "tags": []
          },
          "execution_count": 73
        }
      ]
    },
    {
      "cell_type": "markdown",
      "metadata": {
        "id": "65MVYAKlK5Fq"
      },
      "source": [
        "now time to test the BOY"
      ]
    },
    {
      "cell_type": "markdown",
      "metadata": {
        "id": "DMjUkthLZSvE"
      },
      "source": [
        "just see the shape of X_new"
      ]
    },
    {
      "cell_type": "code",
      "metadata": {
        "colab": {
          "base_uri": "https://localhost:8080/"
        },
        "id": "qw6I7zdcK4LJ",
        "outputId": "9268f9be-fbaf-4d68-9ae5-3ba629b2a211"
      },
      "source": [
        "X_new = np.array([[5,2.9,1,0.2]])\r\n",
        "print(\"X_new.shape:{}\".format(X_new.shape))\r\n"
      ],
      "execution_count": 76,
      "outputs": [
        {
          "output_type": "stream",
          "text": [
            "X_new.shape:(1, 4)\n"
          ],
          "name": "stdout"
        }
      ]
    },
    {
      "cell_type": "markdown",
      "metadata": {
        "id": "U3D5R-KEMJit"
      },
      "source": [
        "lets see if he gusses correct"
      ]
    },
    {
      "cell_type": "code",
      "metadata": {
        "colab": {
          "base_uri": "https://localhost:8080/"
        },
        "id": "SrqKKafEMRpW",
        "outputId": "2558c5c4-721b-427a-cc8f-5a223317289d"
      },
      "source": [
        "prediction = knn.predict(X_new)\r\n",
        "\r\n",
        "print(\"Prediction:{}\".format(prediction))\r\n",
        "print(\"Predicted target name: {}\".format(iris_dataset['target_names']\r\n",
        "                                         [prediction]))"
      ],
      "execution_count": 80,
      "outputs": [
        {
          "output_type": "stream",
          "text": [
            "Prediction:[0]\n",
            "Predicted target name: ['setosa']\n"
          ],
          "name": "stdout"
        }
      ]
    },
    {
      "cell_type": "markdown",
      "metadata": {
        "id": "Dut5PZGOMQcd"
      },
      "source": [
        "evaluating\r\n"
      ]
    },
    {
      "cell_type": "code",
      "metadata": {
        "colab": {
          "base_uri": "https://localhost:8080/"
        },
        "id": "9osUHBMENH0M",
        "outputId": "1ef1ef0c-6861-4675-c56b-f658581db897"
      },
      "source": [
        "y_pred = knn.predict(X_test)\r\n",
        "print(\"Test set predictions:\\n {}\".format(y_pred))"
      ],
      "execution_count": 81,
      "outputs": [
        {
          "output_type": "stream",
          "text": [
            "Test set predictions:\n",
            " [2 1 0 2 0 2 0 1 1 1 2 1 1 1 1 0 1 1 0 0 2 1 0 0 2 0 0 1 1 0 2 1 0 2 2 1 0\n",
            " 2]\n"
          ],
          "name": "stdout"
        }
      ]
    },
    {
      "cell_type": "markdown",
      "metadata": {
        "id": "fNIjkrpFNbKZ"
      },
      "source": [
        ""
      ]
    },
    {
      "cell_type": "code",
      "metadata": {
        "colab": {
          "base_uri": "https://localhost:8080/"
        },
        "id": "1qA_tvGhNbU5",
        "outputId": "718c31d6-ac25-45fc-a997-9dd194f8bac6"
      },
      "source": [
        "print(\"Test set score: {}\".format(np.mean(y_pred == y_test)))"
      ],
      "execution_count": 82,
      "outputs": [
        {
          "output_type": "stream",
          "text": [
            "Test set score: 0.9736842105263158\n"
          ],
          "name": "stdout"
        }
      ]
    },
    {
      "cell_type": "markdown",
      "metadata": {
        "id": "mCD8jGcVuZ0U"
      },
      "source": [
        " /"
      ]
    },
    {
      "cell_type": "markdown",
      "metadata": {
        "id": "emCwyXTFuf7v"
      },
      "source": [
        " /"
      ]
    },
    {
      "cell_type": "markdown",
      "metadata": {
        "id": "RsrDegoTugD1"
      },
      "source": [
        " /"
      ]
    },
    {
      "cell_type": "markdown",
      "metadata": {
        "id": "5RK9vmptuSpv"
      },
      "source": [
        "HERE IS MY VERTION OF ML"
      ]
    },
    {
      "cell_type": "markdown",
      "metadata": {
        "id": "VxXGyrXeuqh4"
      },
      "source": [
        "Machine to determine the type of flower if the inputs of sepal length,sepal width, petal length, petal width in CM is provided"
      ]
    },
    {
      "cell_type": "code",
      "metadata": {
        "colab": {
          "base_uri": "https://localhost:8080/"
        },
        "id": "IG3LKZ34uXlT",
        "outputId": "a5f9ae47-bb96-4ba2-a154-f2980caf7d79"
      },
      "source": [
        "import pandas as pa\r\n",
        "import numpy as np\r\n",
        "\r\n",
        "from sklearn.datasets import load_iris\r\n",
        "iris_dataset = load_iris()\r\n",
        "\r\n",
        "from sklearn.model_selection import train_test_split\r\n",
        "\r\n",
        "X_train, X_test, y_train, y_test = train_test_split(\r\n",
        "    iris_dataset['data'],iris_dataset['target'], random_state=0)\r\n",
        "\r\n",
        "from sklearn.neighbors import KNeighborsClassifier\r\n",
        "\r\n",
        "knn = KNeighborsClassifier(n_neighbors=1)\r\n",
        "\r\n",
        "knn.fit(X_train, y_train)\r\n",
        "\r\n",
        "print(\"provide the necessary information regarding the flower \"\r\n",
        "\"in CM \\nand i will tell you to which family they belong to \\n\")\r\n",
        "\r\n",
        "\r\n",
        "X_new = np.array([[0.0,0.0,0.0,0.0]])\r\n",
        "for i in range(0,4):\r\n",
        "  if i == 0:\r\n",
        "    X_new[0,i] = input(\"sepal length (cm) : \")\r\n",
        "  if i == 1:\r\n",
        "    X_new[0,i]  = input('sepal width (cm)  : ')\r\n",
        "  if i == 2:\r\n",
        "    X_new[0,i]  = input('petal length (cm) : ')\r\n",
        "  if i == 3:\r\n",
        "    X_new[0,i]  = input('petal width (cm)  : ')\r\n",
        "\r\n",
        "prediction = knn.predict(X_new)\r\n",
        "\r\n",
        "print(\" \\n From the given data it's a : {}\".format(iris_dataset[\r\n",
        "                                                        'target_names']\r\n",
        "                                         [prediction]))"
      ],
      "execution_count": 86,
      "outputs": [
        {
          "output_type": "stream",
          "text": [
            "provide the necessary information regarding the flower in CM \n",
            "and i will tell you to which family they belong to \n",
            "\n",
            "sepal length (cm) : 5\n",
            "sepal width (cm)  : 2.9\n",
            "petal length (cm) : 1\n",
            "petal width (cm)  : 0.2\n",
            " \n",
            " From the given data it's a : ['setosa']\n"
          ],
          "name": "stdout"
        }
      ]
    }
  ]
}